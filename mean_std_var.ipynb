{
  "nbformat": 4,
  "nbformat_minor": 0,
  "metadata": {
    "colab": {
      "name": "mean_std_var.ipynb",
      "provenance": [],
      "authorship_tag": "ABX9TyNSMXtWYFRNS1mjinOsksEZ",
      "include_colab_link": true
    },
    "kernelspec": {
      "name": "python3",
      "display_name": "Python 3"
    }
  },
  "cells": [
    {
      "cell_type": "markdown",
      "metadata": {
        "id": "view-in-github",
        "colab_type": "text"
      },
      "source": [
        "<a href=\"https://colab.research.google.com/github/marybello/mean_std_var_calculator/blob/master/mean_std_var.ipynb\" target=\"_parent\"><img src=\"https://colab.research.google.com/assets/colab-badge.svg\" alt=\"Open In Colab\"/></a>"
      ]
    },
    {
      "cell_type": "code",
      "metadata": {
        "id": "OgoziotfNWH-",
        "colab_type": "code",
        "colab": {}
      },
      "source": [
        "import numpy as np\n",
        "\n",
        "def calculate(list):\n",
        "    \n",
        "\n",
        "    while True:\n",
        "        \n",
        "        try:\n",
        "            array = (np.array(list)).reshape(3,3)\n",
        "            calculations = {\n",
        "                'mean': [np.mean(array,axis=0),np.mean(array,axis=1),np.mean(array.flatten())],\n",
        "                'variance': [array.var(axis=0),array.var(axis=1),array.flatten().var()],\n",
        "                'standard deviation': [array.std(axis=0),array.std(axis=1),array.flatten().std()],\n",
        "                'min': [array.min(axis=0),array.min(axis=1),array.flatten().min()],\n",
        "                'max': [array.max(axis=0),array.max(axis=1),array.flatten().max()],\n",
        "                'sum': [array.sum(axis=0),array.sum(axis=1),array.flatten().sum()]\n",
        "            }\n",
        "            return calculations\n",
        "        except ValueError:\n",
        "            print('List must contain nine numbers')\n",
        "            break"
      ],
      "execution_count": 5,
      "outputs": []
    },
    {
      "cell_type": "code",
      "metadata": {
        "id": "JlzeE-ngNlaW",
        "colab_type": "code",
        "colab": {
          "base_uri": "https://localhost:8080/",
          "height": 35
        },
        "outputId": "345d3c15-f31b-4b36-d515-f6bfeff3d6fc"
      },
      "source": [
        "calculate([1,2,3,4,5,6,7,8,9,10])"
      ],
      "execution_count": 8,
      "outputs": [
        {
          "output_type": "stream",
          "text": [
            "List must contain nine numbers\n"
          ],
          "name": "stdout"
        }
      ]
    }
  ]
}